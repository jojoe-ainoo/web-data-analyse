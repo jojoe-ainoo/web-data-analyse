{
  "nbformat": 4,
  "nbformat_minor": 0,
  "metadata": {
    "colab": {
      "provenance": [],
      "toc_visible": true,
      "history_visible": true
    },
    "kernelspec": {
      "name": "python3",
      "display_name": "Python 3"
    },
    "language_info": {
      "name": "python"
    }
  },
  "cells": [
    {
      "cell_type": "code",
      "source": [
        "import pandas as pd\n",
        "from sklearn.model_selection import train_test_split\n",
        "from sklearn.linear_model import LogisticRegression\n",
        "from sklearn.metrics import accuracy_score\n",
        "from sklearn.preprocessing import OneHotEncoder\n",
        "from scipy.stats import pearsonr, spearmanr\n",
        "from sklearn.preprocessing import LabelEncoder\n",
        "import matplotlib.pyplot as plt\n",
        "import seaborn as sns\n",
        "import scipy.stats as stat\n",
        "import numpy as np"
      ],
      "metadata": {
        "id": "zdRDcmGe7itL"
      },
      "execution_count": null,
      "outputs": []
    },
    {
      "cell_type": "markdown",
      "source": [
        "# Question 1"
      ],
      "metadata": {
        "id": "ap8S67kKVRA0"
      }
    },
    {
      "cell_type": "code",
      "source": [
        "# Read the data from the downloaded csv file\n",
        "df = pd.read_csv('Test_Dataset.csv')\n",
        "\n",
        "# Read products category, homepage and the rest as others\n",
        "page_segments = []\n",
        "for page in df['Page']:\n",
        "    if '/produit/' in page:\n",
        "        page_segments.append('Products')\n",
        "    elif page == '/':\n",
        "        page_segments.append('Homepage')\n",
        "    else:\n",
        "        page_segments.append('Others')\n",
        "\n",
        "df['Page Segment'] = page_segments\n",
        "page_segment_count = df['Page Segment'].value_counts().reset_index()\n",
        "\n",
        "# Show the data\n",
        "page_segment_count.head()"
      ],
      "metadata": {
        "colab": {
          "base_uri": "https://localhost:8080/",
          "height": 142
        },
        "id": "5JZI8H7y8CCv",
        "outputId": "a2490bb5-d7e4-4ade-c089-b57e2f3c2f4a"
      },
      "execution_count": null,
      "outputs": [
        {
          "output_type": "execute_result",
          "data": {
            "text/plain": [
              "      index  Page Segment\n",
              "0    Others        389176\n",
              "1  Products          3675\n",
              "2  Homepage          3425"
            ],
            "text/html": [
              "\n",
              "  <div id=\"df-f2289809-94f5-4b11-ba2e-f1961391df4b\">\n",
              "    <div class=\"colab-df-container\">\n",
              "      <div>\n",
              "<style scoped>\n",
              "    .dataframe tbody tr th:only-of-type {\n",
              "        vertical-align: middle;\n",
              "    }\n",
              "\n",
              "    .dataframe tbody tr th {\n",
              "        vertical-align: top;\n",
              "    }\n",
              "\n",
              "    .dataframe thead th {\n",
              "        text-align: right;\n",
              "    }\n",
              "</style>\n",
              "<table border=\"1\" class=\"dataframe\">\n",
              "  <thead>\n",
              "    <tr style=\"text-align: right;\">\n",
              "      <th></th>\n",
              "      <th>index</th>\n",
              "      <th>Page Segment</th>\n",
              "    </tr>\n",
              "  </thead>\n",
              "  <tbody>\n",
              "    <tr>\n",
              "      <th>0</th>\n",
              "      <td>Others</td>\n",
              "      <td>389176</td>\n",
              "    </tr>\n",
              "    <tr>\n",
              "      <th>1</th>\n",
              "      <td>Products</td>\n",
              "      <td>3675</td>\n",
              "    </tr>\n",
              "    <tr>\n",
              "      <th>2</th>\n",
              "      <td>Homepage</td>\n",
              "      <td>3425</td>\n",
              "    </tr>\n",
              "  </tbody>\n",
              "</table>\n",
              "</div>\n",
              "      <button class=\"colab-df-convert\" onclick=\"convertToInteractive('df-f2289809-94f5-4b11-ba2e-f1961391df4b')\"\n",
              "              title=\"Convert this dataframe to an interactive table.\"\n",
              "              style=\"display:none;\">\n",
              "        \n",
              "  <svg xmlns=\"http://www.w3.org/2000/svg\" height=\"24px\"viewBox=\"0 0 24 24\"\n",
              "       width=\"24px\">\n",
              "    <path d=\"M0 0h24v24H0V0z\" fill=\"none\"/>\n",
              "    <path d=\"M18.56 5.44l.94 2.06.94-2.06 2.06-.94-2.06-.94-.94-2.06-.94 2.06-2.06.94zm-11 1L8.5 8.5l.94-2.06 2.06-.94-2.06-.94L8.5 2.5l-.94 2.06-2.06.94zm10 10l.94 2.06.94-2.06 2.06-.94-2.06-.94-.94-2.06-.94 2.06-2.06.94z\"/><path d=\"M17.41 7.96l-1.37-1.37c-.4-.4-.92-.59-1.43-.59-.52 0-1.04.2-1.43.59L10.3 9.45l-7.72 7.72c-.78.78-.78 2.05 0 2.83L4 21.41c.39.39.9.59 1.41.59.51 0 1.02-.2 1.41-.59l7.78-7.78 2.81-2.81c.8-.78.8-2.07 0-2.86zM5.41 20L4 18.59l7.72-7.72 1.47 1.35L5.41 20z\"/>\n",
              "  </svg>\n",
              "      </button>\n",
              "      \n",
              "  <style>\n",
              "    .colab-df-container {\n",
              "      display:flex;\n",
              "      flex-wrap:wrap;\n",
              "      gap: 12px;\n",
              "    }\n",
              "\n",
              "    .colab-df-convert {\n",
              "      background-color: #E8F0FE;\n",
              "      border: none;\n",
              "      border-radius: 50%;\n",
              "      cursor: pointer;\n",
              "      display: none;\n",
              "      fill: #1967D2;\n",
              "      height: 32px;\n",
              "      padding: 0 0 0 0;\n",
              "      width: 32px;\n",
              "    }\n",
              "\n",
              "    .colab-df-convert:hover {\n",
              "      background-color: #E2EBFA;\n",
              "      box-shadow: 0px 1px 2px rgba(60, 64, 67, 0.3), 0px 1px 3px 1px rgba(60, 64, 67, 0.15);\n",
              "      fill: #174EA6;\n",
              "    }\n",
              "\n",
              "    [theme=dark] .colab-df-convert {\n",
              "      background-color: #3B4455;\n",
              "      fill: #D2E3FC;\n",
              "    }\n",
              "\n",
              "    [theme=dark] .colab-df-convert:hover {\n",
              "      background-color: #434B5C;\n",
              "      box-shadow: 0px 1px 3px 1px rgba(0, 0, 0, 0.15);\n",
              "      filter: drop-shadow(0px 1px 2px rgba(0, 0, 0, 0.3));\n",
              "      fill: #FFFFFF;\n",
              "    }\n",
              "  </style>\n",
              "\n",
              "      <script>\n",
              "        const buttonEl =\n",
              "          document.querySelector('#df-f2289809-94f5-4b11-ba2e-f1961391df4b button.colab-df-convert');\n",
              "        buttonEl.style.display =\n",
              "          google.colab.kernel.accessAllowed ? 'block' : 'none';\n",
              "\n",
              "        async function convertToInteractive(key) {\n",
              "          const element = document.querySelector('#df-f2289809-94f5-4b11-ba2e-f1961391df4b');\n",
              "          const dataTable =\n",
              "            await google.colab.kernel.invokeFunction('convertToInteractive',\n",
              "                                                     [key], {});\n",
              "          if (!dataTable) return;\n",
              "\n",
              "          const docLinkHtml = 'Like what you see? Visit the ' +\n",
              "            '<a target=\"_blank\" href=https://colab.research.google.com/notebooks/data_table.ipynb>data table notebook</a>'\n",
              "            + ' to learn more about interactive tables.';\n",
              "          element.innerHTML = '';\n",
              "          dataTable['output_type'] = 'display_data';\n",
              "          await google.colab.output.renderOutput(dataTable, element);\n",
              "          const docLink = document.createElement('div');\n",
              "          docLink.innerHTML = docLinkHtml;\n",
              "          element.appendChild(docLink);\n",
              "        }\n",
              "      </script>\n",
              "    </div>\n",
              "  </div>\n",
              "  "
            ]
          },
          "metadata": {},
          "execution_count": 3
        }
      ]
    },
    {
      "cell_type": "markdown",
      "source": [
        "**Improved version to take all categories based on url of the the page split by //.**"
      ],
      "metadata": {
        "id": "LoY4RohiV6UJ"
      }
    },
    {
      "cell_type": "code",
      "source": [
        "# Read the data from CSV file\n",
        "df = pd.read_csv('Test_Dataset.csv')\n",
        "\n",
        "# Extract the category from the URL by splitting from the beginning of the Url\n",
        "# Eg /produit/ , /boutique/, /checkout/\n",
        "df['Category'] = df['Page'].apply(lambda x: x.split('/')[1] if x.startswith('/') else 'Homepage')\n",
        "\n",
        "# Calculate the count of actions per category & create dictonary for this\n",
        "category_counts = df['Category'].value_counts().reset_index()\n",
        "category_counts.columns = ['Category', 'Count']\n",
        "\n",
        "\n",
        "# Display the first 5 rows\n",
        "category_counts.head(10)"
      ],
      "metadata": {
        "colab": {
          "base_uri": "https://localhost:8080/",
          "height": 359
        },
        "id": "ZCmPk4fQ-u1e",
        "outputId": "06f5daa8-e767-480c-ea8c-a21cd4122651"
      },
      "execution_count": null,
      "outputs": [
        {
          "output_type": "execute_result",
          "data": {
            "text/plain": [
              "            Category   Count\n",
              "0                 fr  338316\n",
              "1        collections   35744\n",
              "2           products    7739\n",
              "3            produit    3675\n",
              "4                       3425\n",
              "5                 en    1314\n",
              "6           boutique    1257\n",
              "7              pages    1082\n",
              "8  categorie-produit     938\n",
              "9               cart     765"
            ],
            "text/html": [
              "\n",
              "  <div id=\"df-be371640-2121-4c07-80a7-1645d87583b8\">\n",
              "    <div class=\"colab-df-container\">\n",
              "      <div>\n",
              "<style scoped>\n",
              "    .dataframe tbody tr th:only-of-type {\n",
              "        vertical-align: middle;\n",
              "    }\n",
              "\n",
              "    .dataframe tbody tr th {\n",
              "        vertical-align: top;\n",
              "    }\n",
              "\n",
              "    .dataframe thead th {\n",
              "        text-align: right;\n",
              "    }\n",
              "</style>\n",
              "<table border=\"1\" class=\"dataframe\">\n",
              "  <thead>\n",
              "    <tr style=\"text-align: right;\">\n",
              "      <th></th>\n",
              "      <th>Category</th>\n",
              "      <th>Count</th>\n",
              "    </tr>\n",
              "  </thead>\n",
              "  <tbody>\n",
              "    <tr>\n",
              "      <th>0</th>\n",
              "      <td>fr</td>\n",
              "      <td>338316</td>\n",
              "    </tr>\n",
              "    <tr>\n",
              "      <th>1</th>\n",
              "      <td>collections</td>\n",
              "      <td>35744</td>\n",
              "    </tr>\n",
              "    <tr>\n",
              "      <th>2</th>\n",
              "      <td>products</td>\n",
              "      <td>7739</td>\n",
              "    </tr>\n",
              "    <tr>\n",
              "      <th>3</th>\n",
              "      <td>produit</td>\n",
              "      <td>3675</td>\n",
              "    </tr>\n",
              "    <tr>\n",
              "      <th>4</th>\n",
              "      <td></td>\n",
              "      <td>3425</td>\n",
              "    </tr>\n",
              "    <tr>\n",
              "      <th>5</th>\n",
              "      <td>en</td>\n",
              "      <td>1314</td>\n",
              "    </tr>\n",
              "    <tr>\n",
              "      <th>6</th>\n",
              "      <td>boutique</td>\n",
              "      <td>1257</td>\n",
              "    </tr>\n",
              "    <tr>\n",
              "      <th>7</th>\n",
              "      <td>pages</td>\n",
              "      <td>1082</td>\n",
              "    </tr>\n",
              "    <tr>\n",
              "      <th>8</th>\n",
              "      <td>categorie-produit</td>\n",
              "      <td>938</td>\n",
              "    </tr>\n",
              "    <tr>\n",
              "      <th>9</th>\n",
              "      <td>cart</td>\n",
              "      <td>765</td>\n",
              "    </tr>\n",
              "  </tbody>\n",
              "</table>\n",
              "</div>\n",
              "      <button class=\"colab-df-convert\" onclick=\"convertToInteractive('df-be371640-2121-4c07-80a7-1645d87583b8')\"\n",
              "              title=\"Convert this dataframe to an interactive table.\"\n",
              "              style=\"display:none;\">\n",
              "        \n",
              "  <svg xmlns=\"http://www.w3.org/2000/svg\" height=\"24px\"viewBox=\"0 0 24 24\"\n",
              "       width=\"24px\">\n",
              "    <path d=\"M0 0h24v24H0V0z\" fill=\"none\"/>\n",
              "    <path d=\"M18.56 5.44l.94 2.06.94-2.06 2.06-.94-2.06-.94-.94-2.06-.94 2.06-2.06.94zm-11 1L8.5 8.5l.94-2.06 2.06-.94-2.06-.94L8.5 2.5l-.94 2.06-2.06.94zm10 10l.94 2.06.94-2.06 2.06-.94-2.06-.94-.94-2.06-.94 2.06-2.06.94z\"/><path d=\"M17.41 7.96l-1.37-1.37c-.4-.4-.92-.59-1.43-.59-.52 0-1.04.2-1.43.59L10.3 9.45l-7.72 7.72c-.78.78-.78 2.05 0 2.83L4 21.41c.39.39.9.59 1.41.59.51 0 1.02-.2 1.41-.59l7.78-7.78 2.81-2.81c.8-.78.8-2.07 0-2.86zM5.41 20L4 18.59l7.72-7.72 1.47 1.35L5.41 20z\"/>\n",
              "  </svg>\n",
              "      </button>\n",
              "      \n",
              "  <style>\n",
              "    .colab-df-container {\n",
              "      display:flex;\n",
              "      flex-wrap:wrap;\n",
              "      gap: 12px;\n",
              "    }\n",
              "\n",
              "    .colab-df-convert {\n",
              "      background-color: #E8F0FE;\n",
              "      border: none;\n",
              "      border-radius: 50%;\n",
              "      cursor: pointer;\n",
              "      display: none;\n",
              "      fill: #1967D2;\n",
              "      height: 32px;\n",
              "      padding: 0 0 0 0;\n",
              "      width: 32px;\n",
              "    }\n",
              "\n",
              "    .colab-df-convert:hover {\n",
              "      background-color: #E2EBFA;\n",
              "      box-shadow: 0px 1px 2px rgba(60, 64, 67, 0.3), 0px 1px 3px 1px rgba(60, 64, 67, 0.15);\n",
              "      fill: #174EA6;\n",
              "    }\n",
              "\n",
              "    [theme=dark] .colab-df-convert {\n",
              "      background-color: #3B4455;\n",
              "      fill: #D2E3FC;\n",
              "    }\n",
              "\n",
              "    [theme=dark] .colab-df-convert:hover {\n",
              "      background-color: #434B5C;\n",
              "      box-shadow: 0px 1px 3px 1px rgba(0, 0, 0, 0.15);\n",
              "      filter: drop-shadow(0px 1px 2px rgba(0, 0, 0, 0.3));\n",
              "      fill: #FFFFFF;\n",
              "    }\n",
              "  </style>\n",
              "\n",
              "      <script>\n",
              "        const buttonEl =\n",
              "          document.querySelector('#df-be371640-2121-4c07-80a7-1645d87583b8 button.colab-df-convert');\n",
              "        buttonEl.style.display =\n",
              "          google.colab.kernel.accessAllowed ? 'block' : 'none';\n",
              "\n",
              "        async function convertToInteractive(key) {\n",
              "          const element = document.querySelector('#df-be371640-2121-4c07-80a7-1645d87583b8');\n",
              "          const dataTable =\n",
              "            await google.colab.kernel.invokeFunction('convertToInteractive',\n",
              "                                                     [key], {});\n",
              "          if (!dataTable) return;\n",
              "\n",
              "          const docLinkHtml = 'Like what you see? Visit the ' +\n",
              "            '<a target=\"_blank\" href=https://colab.research.google.com/notebooks/data_table.ipynb>data table notebook</a>'\n",
              "            + ' to learn more about interactive tables.';\n",
              "          element.innerHTML = '';\n",
              "          dataTable['output_type'] = 'display_data';\n",
              "          await google.colab.output.renderOutput(dataTable, element);\n",
              "          const docLink = document.createElement('div');\n",
              "          docLink.innerHTML = docLinkHtml;\n",
              "          element.appendChild(docLink);\n",
              "        }\n",
              "      </script>\n",
              "    </div>\n",
              "  </div>\n",
              "  "
            ]
          },
          "metadata": {},
          "execution_count": 4
        }
      ]
    },
    {
      "cell_type": "markdown",
      "source": [
        "# Question 2"
      ],
      "metadata": {
        "id": "FU385h41ZJF0"
      }
    },
    {
      "cell_type": "code",
      "source": [
        "# 2. Identify the first state of each user.\n",
        "\n",
        "first_state = df.groupby('Visitor Id')['State'].min().reset_index() # Extract the first state of each user\n",
        "first_state.head(10)\n",
        "\n",
        "first_state = df.groupby('Visitor Id')['State'].min().reset_index()\n",
        "\n",
        "# Filter for Visitor 2\n",
        "visitor_2_first_state = first_state[first_state['Visitor Id'] == 'Visitor 3']\n",
        "\n",
        "# Get the first state of Visitor 2\n",
        "first_state_visitor_2 = visitor_2_first_state['State'].iloc[0]\n",
        "\n",
        "print(\"First state of Visitor 2:\", first_state_visitor_2)\n",
        "first_state.head(10)"
      ],
      "metadata": {
        "colab": {
          "base_uri": "https://localhost:8080/",
          "height": 376
        },
        "id": "QTQGqLEIEjX-",
        "outputId": "9adbe2b8-5475-4551-8148-c502c4444a99"
      },
      "execution_count": null,
      "outputs": [
        {
          "output_type": "stream",
          "name": "stdout",
          "text": [
            "First state of Visitor 2: 2\n"
          ]
        },
        {
          "output_type": "execute_result",
          "data": {
            "text/plain": [
              "      Visitor Id  State\n",
              "0      Visitor 1      4\n",
              "1     Visitor 10      2\n",
              "2    Visitor 100      2\n",
              "3   Visitor 1000      2\n",
              "4  Visitor 10000      4\n",
              "5  Visitor 10001      2\n",
              "6  Visitor 10002      4\n",
              "7  Visitor 10003      4\n",
              "8  Visitor 10004      2\n",
              "9  Visitor 10005      4"
            ],
            "text/html": [
              "\n",
              "  <div id=\"df-3cba8a8c-f284-4d2d-b90a-270f9c7571f5\">\n",
              "    <div class=\"colab-df-container\">\n",
              "      <div>\n",
              "<style scoped>\n",
              "    .dataframe tbody tr th:only-of-type {\n",
              "        vertical-align: middle;\n",
              "    }\n",
              "\n",
              "    .dataframe tbody tr th {\n",
              "        vertical-align: top;\n",
              "    }\n",
              "\n",
              "    .dataframe thead th {\n",
              "        text-align: right;\n",
              "    }\n",
              "</style>\n",
              "<table border=\"1\" class=\"dataframe\">\n",
              "  <thead>\n",
              "    <tr style=\"text-align: right;\">\n",
              "      <th></th>\n",
              "      <th>Visitor Id</th>\n",
              "      <th>State</th>\n",
              "    </tr>\n",
              "  </thead>\n",
              "  <tbody>\n",
              "    <tr>\n",
              "      <th>0</th>\n",
              "      <td>Visitor 1</td>\n",
              "      <td>4</td>\n",
              "    </tr>\n",
              "    <tr>\n",
              "      <th>1</th>\n",
              "      <td>Visitor 10</td>\n",
              "      <td>2</td>\n",
              "    </tr>\n",
              "    <tr>\n",
              "      <th>2</th>\n",
              "      <td>Visitor 100</td>\n",
              "      <td>2</td>\n",
              "    </tr>\n",
              "    <tr>\n",
              "      <th>3</th>\n",
              "      <td>Visitor 1000</td>\n",
              "      <td>2</td>\n",
              "    </tr>\n",
              "    <tr>\n",
              "      <th>4</th>\n",
              "      <td>Visitor 10000</td>\n",
              "      <td>4</td>\n",
              "    </tr>\n",
              "    <tr>\n",
              "      <th>5</th>\n",
              "      <td>Visitor 10001</td>\n",
              "      <td>2</td>\n",
              "    </tr>\n",
              "    <tr>\n",
              "      <th>6</th>\n",
              "      <td>Visitor 10002</td>\n",
              "      <td>4</td>\n",
              "    </tr>\n",
              "    <tr>\n",
              "      <th>7</th>\n",
              "      <td>Visitor 10003</td>\n",
              "      <td>4</td>\n",
              "    </tr>\n",
              "    <tr>\n",
              "      <th>8</th>\n",
              "      <td>Visitor 10004</td>\n",
              "      <td>2</td>\n",
              "    </tr>\n",
              "    <tr>\n",
              "      <th>9</th>\n",
              "      <td>Visitor 10005</td>\n",
              "      <td>4</td>\n",
              "    </tr>\n",
              "  </tbody>\n",
              "</table>\n",
              "</div>\n",
              "      <button class=\"colab-df-convert\" onclick=\"convertToInteractive('df-3cba8a8c-f284-4d2d-b90a-270f9c7571f5')\"\n",
              "              title=\"Convert this dataframe to an interactive table.\"\n",
              "              style=\"display:none;\">\n",
              "        \n",
              "  <svg xmlns=\"http://www.w3.org/2000/svg\" height=\"24px\"viewBox=\"0 0 24 24\"\n",
              "       width=\"24px\">\n",
              "    <path d=\"M0 0h24v24H0V0z\" fill=\"none\"/>\n",
              "    <path d=\"M18.56 5.44l.94 2.06.94-2.06 2.06-.94-2.06-.94-.94-2.06-.94 2.06-2.06.94zm-11 1L8.5 8.5l.94-2.06 2.06-.94-2.06-.94L8.5 2.5l-.94 2.06-2.06.94zm10 10l.94 2.06.94-2.06 2.06-.94-2.06-.94-.94-2.06-.94 2.06-2.06.94z\"/><path d=\"M17.41 7.96l-1.37-1.37c-.4-.4-.92-.59-1.43-.59-.52 0-1.04.2-1.43.59L10.3 9.45l-7.72 7.72c-.78.78-.78 2.05 0 2.83L4 21.41c.39.39.9.59 1.41.59.51 0 1.02-.2 1.41-.59l7.78-7.78 2.81-2.81c.8-.78.8-2.07 0-2.86zM5.41 20L4 18.59l7.72-7.72 1.47 1.35L5.41 20z\"/>\n",
              "  </svg>\n",
              "      </button>\n",
              "      \n",
              "  <style>\n",
              "    .colab-df-container {\n",
              "      display:flex;\n",
              "      flex-wrap:wrap;\n",
              "      gap: 12px;\n",
              "    }\n",
              "\n",
              "    .colab-df-convert {\n",
              "      background-color: #E8F0FE;\n",
              "      border: none;\n",
              "      border-radius: 50%;\n",
              "      cursor: pointer;\n",
              "      display: none;\n",
              "      fill: #1967D2;\n",
              "      height: 32px;\n",
              "      padding: 0 0 0 0;\n",
              "      width: 32px;\n",
              "    }\n",
              "\n",
              "    .colab-df-convert:hover {\n",
              "      background-color: #E2EBFA;\n",
              "      box-shadow: 0px 1px 2px rgba(60, 64, 67, 0.3), 0px 1px 3px 1px rgba(60, 64, 67, 0.15);\n",
              "      fill: #174EA6;\n",
              "    }\n",
              "\n",
              "    [theme=dark] .colab-df-convert {\n",
              "      background-color: #3B4455;\n",
              "      fill: #D2E3FC;\n",
              "    }\n",
              "\n",
              "    [theme=dark] .colab-df-convert:hover {\n",
              "      background-color: #434B5C;\n",
              "      box-shadow: 0px 1px 3px 1px rgba(0, 0, 0, 0.15);\n",
              "      filter: drop-shadow(0px 1px 2px rgba(0, 0, 0, 0.3));\n",
              "      fill: #FFFFFF;\n",
              "    }\n",
              "  </style>\n",
              "\n",
              "      <script>\n",
              "        const buttonEl =\n",
              "          document.querySelector('#df-3cba8a8c-f284-4d2d-b90a-270f9c7571f5 button.colab-df-convert');\n",
              "        buttonEl.style.display =\n",
              "          google.colab.kernel.accessAllowed ? 'block' : 'none';\n",
              "\n",
              "        async function convertToInteractive(key) {\n",
              "          const element = document.querySelector('#df-3cba8a8c-f284-4d2d-b90a-270f9c7571f5');\n",
              "          const dataTable =\n",
              "            await google.colab.kernel.invokeFunction('convertToInteractive',\n",
              "                                                     [key], {});\n",
              "          if (!dataTable) return;\n",
              "\n",
              "          const docLinkHtml = 'Like what you see? Visit the ' +\n",
              "            '<a target=\"_blank\" href=https://colab.research.google.com/notebooks/data_table.ipynb>data table notebook</a>'\n",
              "            + ' to learn more about interactive tables.';\n",
              "          element.innerHTML = '';\n",
              "          dataTable['output_type'] = 'display_data';\n",
              "          await google.colab.output.renderOutput(dataTable, element);\n",
              "          const docLink = document.createElement('div');\n",
              "          docLink.innerHTML = docLinkHtml;\n",
              "          element.appendChild(docLink);\n",
              "        }\n",
              "      </script>\n",
              "    </div>\n",
              "  </div>\n",
              "  "
            ]
          },
          "metadata": {},
          "execution_count": 5
        }
      ]
    },
    {
      "cell_type": "code",
      "source": [
        "# 1. Determine the engagement level (higher/lower) of each user by comparing the number of actions to the average.\n",
        "\n",
        "first_state = df.groupby('Visitor Id')['State'].min().reset_index() # Extract the first state of each user\n",
        "first_state.head(10)\n",
        "# Calculate the average number of actions per user\n",
        "\n",
        "average_actions = df.groupby('Visitor Id').size().reset_index(name='Actions').groupby('Visitor Id')['Actions'].mean().reset_index()\n",
        "average_actions.head(5)\n",
        "\n",
        "# Merge the first state and average actions with the engagement level\n",
        "engagement = pd.merge(first_state, average_actions, on='Visitor Id')\n",
        "\n",
        "# Engagement level is higher if engagement level higher than avergage number of actions\n",
        "engagement['Engagement Level'] = engagement['Actions'].apply(lambda x: 'Higher' if x > engagement['Actions'].mean() else 'Lower')\n",
        "\n",
        "visitor_2_engagement = engagement[engagement['Visitor Id'] == 'Visitor 2']\n",
        "\n",
        "# Print Visitor 2's first state,average number of actions, and engagement level just to see it's working as expected \n",
        "print(\"Visitor 2's First State:\", visitor_2_engagement['State'].iloc[0])\n",
        "print(\"Visitor 2's Average Number of Actions:\", visitor_2_engagement['Actions'].iloc[0])\n",
        "print(\"Visitor 2's Engagement Level:\", visitor_2_engagement['Engagement Level'].iloc[0])\n",
        "\n",
        "engagement.head(10)"
      ],
      "metadata": {
        "colab": {
          "base_uri": "https://localhost:8080/",
          "height": 410
        },
        "id": "uz3E7OqBAETG",
        "outputId": "23cec9d8-70cd-4ff4-8d95-46677031448c"
      },
      "execution_count": null,
      "outputs": [
        {
          "output_type": "stream",
          "name": "stdout",
          "text": [
            "Visitor 2's First State: 2\n",
            "Visitor 2's Average Number of Actions: 13.0\n",
            "Visitor 2's Engagement Level: Higher\n"
          ]
        },
        {
          "output_type": "execute_result",
          "data": {
            "text/plain": [
              "      Visitor Id  State  Actions Engagement Level\n",
              "0      Visitor 1      4      1.0            Lower\n",
              "1     Visitor 10      2      2.0            Lower\n",
              "2    Visitor 100      2      1.0            Lower\n",
              "3   Visitor 1000      2      4.0            Lower\n",
              "4  Visitor 10000      4      1.0            Lower\n",
              "5  Visitor 10001      2      1.0            Lower\n",
              "6  Visitor 10002      4      1.0            Lower\n",
              "7  Visitor 10003      4      1.0            Lower\n",
              "8  Visitor 10004      2      4.0            Lower\n",
              "9  Visitor 10005      4      1.0            Lower"
            ],
            "text/html": [
              "\n",
              "  <div id=\"df-6d3bba85-7002-463b-a120-ee8a35cf1988\">\n",
              "    <div class=\"colab-df-container\">\n",
              "      <div>\n",
              "<style scoped>\n",
              "    .dataframe tbody tr th:only-of-type {\n",
              "        vertical-align: middle;\n",
              "    }\n",
              "\n",
              "    .dataframe tbody tr th {\n",
              "        vertical-align: top;\n",
              "    }\n",
              "\n",
              "    .dataframe thead th {\n",
              "        text-align: right;\n",
              "    }\n",
              "</style>\n",
              "<table border=\"1\" class=\"dataframe\">\n",
              "  <thead>\n",
              "    <tr style=\"text-align: right;\">\n",
              "      <th></th>\n",
              "      <th>Visitor Id</th>\n",
              "      <th>State</th>\n",
              "      <th>Actions</th>\n",
              "      <th>Engagement Level</th>\n",
              "    </tr>\n",
              "  </thead>\n",
              "  <tbody>\n",
              "    <tr>\n",
              "      <th>0</th>\n",
              "      <td>Visitor 1</td>\n",
              "      <td>4</td>\n",
              "      <td>1.0</td>\n",
              "      <td>Lower</td>\n",
              "    </tr>\n",
              "    <tr>\n",
              "      <th>1</th>\n",
              "      <td>Visitor 10</td>\n",
              "      <td>2</td>\n",
              "      <td>2.0</td>\n",
              "      <td>Lower</td>\n",
              "    </tr>\n",
              "    <tr>\n",
              "      <th>2</th>\n",
              "      <td>Visitor 100</td>\n",
              "      <td>2</td>\n",
              "      <td>1.0</td>\n",
              "      <td>Lower</td>\n",
              "    </tr>\n",
              "    <tr>\n",
              "      <th>3</th>\n",
              "      <td>Visitor 1000</td>\n",
              "      <td>2</td>\n",
              "      <td>4.0</td>\n",
              "      <td>Lower</td>\n",
              "    </tr>\n",
              "    <tr>\n",
              "      <th>4</th>\n",
              "      <td>Visitor 10000</td>\n",
              "      <td>4</td>\n",
              "      <td>1.0</td>\n",
              "      <td>Lower</td>\n",
              "    </tr>\n",
              "    <tr>\n",
              "      <th>5</th>\n",
              "      <td>Visitor 10001</td>\n",
              "      <td>2</td>\n",
              "      <td>1.0</td>\n",
              "      <td>Lower</td>\n",
              "    </tr>\n",
              "    <tr>\n",
              "      <th>6</th>\n",
              "      <td>Visitor 10002</td>\n",
              "      <td>4</td>\n",
              "      <td>1.0</td>\n",
              "      <td>Lower</td>\n",
              "    </tr>\n",
              "    <tr>\n",
              "      <th>7</th>\n",
              "      <td>Visitor 10003</td>\n",
              "      <td>4</td>\n",
              "      <td>1.0</td>\n",
              "      <td>Lower</td>\n",
              "    </tr>\n",
              "    <tr>\n",
              "      <th>8</th>\n",
              "      <td>Visitor 10004</td>\n",
              "      <td>2</td>\n",
              "      <td>4.0</td>\n",
              "      <td>Lower</td>\n",
              "    </tr>\n",
              "    <tr>\n",
              "      <th>9</th>\n",
              "      <td>Visitor 10005</td>\n",
              "      <td>4</td>\n",
              "      <td>1.0</td>\n",
              "      <td>Lower</td>\n",
              "    </tr>\n",
              "  </tbody>\n",
              "</table>\n",
              "</div>\n",
              "      <button class=\"colab-df-convert\" onclick=\"convertToInteractive('df-6d3bba85-7002-463b-a120-ee8a35cf1988')\"\n",
              "              title=\"Convert this dataframe to an interactive table.\"\n",
              "              style=\"display:none;\">\n",
              "        \n",
              "  <svg xmlns=\"http://www.w3.org/2000/svg\" height=\"24px\"viewBox=\"0 0 24 24\"\n",
              "       width=\"24px\">\n",
              "    <path d=\"M0 0h24v24H0V0z\" fill=\"none\"/>\n",
              "    <path d=\"M18.56 5.44l.94 2.06.94-2.06 2.06-.94-2.06-.94-.94-2.06-.94 2.06-2.06.94zm-11 1L8.5 8.5l.94-2.06 2.06-.94-2.06-.94L8.5 2.5l-.94 2.06-2.06.94zm10 10l.94 2.06.94-2.06 2.06-.94-2.06-.94-.94-2.06-.94 2.06-2.06.94z\"/><path d=\"M17.41 7.96l-1.37-1.37c-.4-.4-.92-.59-1.43-.59-.52 0-1.04.2-1.43.59L10.3 9.45l-7.72 7.72c-.78.78-.78 2.05 0 2.83L4 21.41c.39.39.9.59 1.41.59.51 0 1.02-.2 1.41-.59l7.78-7.78 2.81-2.81c.8-.78.8-2.07 0-2.86zM5.41 20L4 18.59l7.72-7.72 1.47 1.35L5.41 20z\"/>\n",
              "  </svg>\n",
              "      </button>\n",
              "      \n",
              "  <style>\n",
              "    .colab-df-container {\n",
              "      display:flex;\n",
              "      flex-wrap:wrap;\n",
              "      gap: 12px;\n",
              "    }\n",
              "\n",
              "    .colab-df-convert {\n",
              "      background-color: #E8F0FE;\n",
              "      border: none;\n",
              "      border-radius: 50%;\n",
              "      cursor: pointer;\n",
              "      display: none;\n",
              "      fill: #1967D2;\n",
              "      height: 32px;\n",
              "      padding: 0 0 0 0;\n",
              "      width: 32px;\n",
              "    }\n",
              "\n",
              "    .colab-df-convert:hover {\n",
              "      background-color: #E2EBFA;\n",
              "      box-shadow: 0px 1px 2px rgba(60, 64, 67, 0.3), 0px 1px 3px 1px rgba(60, 64, 67, 0.15);\n",
              "      fill: #174EA6;\n",
              "    }\n",
              "\n",
              "    [theme=dark] .colab-df-convert {\n",
              "      background-color: #3B4455;\n",
              "      fill: #D2E3FC;\n",
              "    }\n",
              "\n",
              "    [theme=dark] .colab-df-convert:hover {\n",
              "      background-color: #434B5C;\n",
              "      box-shadow: 0px 1px 3px 1px rgba(0, 0, 0, 0.15);\n",
              "      filter: drop-shadow(0px 1px 2px rgba(0, 0, 0, 0.3));\n",
              "      fill: #FFFFFF;\n",
              "    }\n",
              "  </style>\n",
              "\n",
              "      <script>\n",
              "        const buttonEl =\n",
              "          document.querySelector('#df-6d3bba85-7002-463b-a120-ee8a35cf1988 button.colab-df-convert');\n",
              "        buttonEl.style.display =\n",
              "          google.colab.kernel.accessAllowed ? 'block' : 'none';\n",
              "\n",
              "        async function convertToInteractive(key) {\n",
              "          const element = document.querySelector('#df-6d3bba85-7002-463b-a120-ee8a35cf1988');\n",
              "          const dataTable =\n",
              "            await google.colab.kernel.invokeFunction('convertToInteractive',\n",
              "                                                     [key], {});\n",
              "          if (!dataTable) return;\n",
              "\n",
              "          const docLinkHtml = 'Like what you see? Visit the ' +\n",
              "            '<a target=\"_blank\" href=https://colab.research.google.com/notebooks/data_table.ipynb>data table notebook</a>'\n",
              "            + ' to learn more about interactive tables.';\n",
              "          element.innerHTML = '';\n",
              "          dataTable['output_type'] = 'display_data';\n",
              "          await google.colab.output.renderOutput(dataTable, element);\n",
              "          const docLink = document.createElement('div');\n",
              "          docLink.innerHTML = docLinkHtml;\n",
              "          element.appendChild(docLink);\n",
              "        }\n",
              "      </script>\n",
              "    </div>\n",
              "  </div>\n",
              "  "
            ]
          },
          "metadata": {},
          "execution_count": 6
        }
      ]
    },
    {
      "cell_type": "code",
      "source": [
        "#3. Develop a predictive model that estimates the engagement level based on the \"first state\" of the user.\n",
        "\n",
        "# ---> TRY LOGISTICS REGRESSION FROM SCIKIT\n",
        "# Prepare the features and target variables\n",
        "X = engagement[['State']]\n",
        "y = engagement['Engagement Level']\n",
        "\n",
        "# Split the dataset into training and testing sets\n",
        "X_train, X_test, y_train, y_test = train_test_split(X, y, test_size=0.2, random_state=42)\n",
        "\n",
        "# Prepare the features and target variables\n",
        "X = engagement[['State']]\n",
        "y = engagement['Engagement Level']\n",
        "\n",
        "# Split the dataset into training and testing sets\n",
        "X_train, X_test, y_train, y_test = train_test_split(X, y, test_size=0.2, random_state=42)\n",
        "\n",
        "# Initialize and train the logistic regression model\n",
        "model = LogisticRegression()\n",
        "model.fit(X_train, y_train)\n",
        "\n",
        "# Make predictions on the testing set\n",
        "y_pred = model.predict(X_test)\n",
        "\n",
        "# Example prediction for the first state of a user\n",
        "prediction = model.predict([[4]])\n",
        "print(\"Predicted Engagement Level:\", prediction[0])\n"
      ],
      "metadata": {
        "colab": {
          "base_uri": "https://localhost:8080/"
        },
        "id": "PHCe3JkGGWGS",
        "outputId": "78e671f3-4efb-4940-e829-67293b2b6902"
      },
      "execution_count": null,
      "outputs": [
        {
          "output_type": "stream",
          "name": "stdout",
          "text": [
            "Predicted Engagement Level: Lower\n"
          ]
        },
        {
          "output_type": "stream",
          "name": "stderr",
          "text": [
            "/usr/local/lib/python3.10/dist-packages/sklearn/base.py:439: UserWarning: X does not have valid feature names, but LogisticRegression was fitted with feature names\n",
            "  warnings.warn(\n"
          ]
        }
      ]
    },
    {
      "cell_type": "code",
      "source": [
        "# 4. Explain how you calculated the accuracy of the model.\n",
        "\n",
        "# Calculate the accuracy of the model\n",
        "accuracy = accuracy_score(y_test, y_pred)\n",
        "print(\"Accuracy:\", accuracy)\n",
        "\n",
        "# This inbuilt scikit accuracy score function calculates the accuracy of the modek by comparing the y_test which is the true labels from \n",
        "# the test set to y_pred whihc is the predictaed labels generated by the model.\n",
        "# This is calculated by the ratio of correct predictions / total number of predictions "
      ],
      "metadata": {
        "colab": {
          "base_uri": "https://localhost:8080/"
        },
        "id": "RNrxGzt4HNby",
        "outputId": "f23c6bd7-c821-49d7-80c2-938e730cedfd"
      },
      "execution_count": null,
      "outputs": [
        {
          "output_type": "stream",
          "name": "stdout",
          "text": [
            "Accuracy: 0.747401086113266\n"
          ]
        }
      ]
    },
    {
      "cell_type": "markdown",
      "source": [
        "This inbuilt scikit accuracy score function calculates the accuracy of the modek by comparing the y_test which is the true labels from the test set to y_pred whihc is the predictaed labels generated by the model. This is calculated by the ratio of correct predictions / total number of predictions"
      ],
      "metadata": {
        "id": "9CugWZiAZqdI"
      }
    },
    {
      "cell_type": "markdown",
      "source": [
        "# Question 3"
      ],
      "metadata": {
        "id": "-AuWytxQZ-eY"
      }
    },
    {
      "cell_type": "code",
      "source": [
        "#1. Calculate the Response Rate Index (RRI) for each user. RRI is calculated using the equation: (Number of state 1 expressed + Number of state 2 expressed) / Total states expressed.\n",
        "\n",
        "# Calculate the number of states expressed by each user\n",
        "state_counts = df.groupby('Visitor Id')['State'].value_counts().unstack(fill_value=0)\n",
        "\n",
        "# Filter the dataframe to include only State 1 and State 2 expressed\n",
        "filtered_df = df[df['State'].isin([1, 2])]\n",
        "filtered_df.head(5)\n",
        "\n",
        "# Calculate the total states expressed by each user\n",
        "total_states_expressed = state_counts.sum(axis=1)\n",
        "\n",
        "# Calculate the Response Rate Index (RRI) for each user\n",
        "rri = (state_counts[1] + state_counts[2]) / total_states_expressed\n",
        "print(rri)\n",
        "\n"
      ],
      "metadata": {
        "colab": {
          "base_uri": "https://localhost:8080/"
        },
        "id": "sTHlAX_ENu0y",
        "outputId": "e04a8aeb-ff12-424d-e839-372e1a3abda9"
      },
      "execution_count": null,
      "outputs": [
        {
          "output_type": "stream",
          "name": "stdout",
          "text": [
            "Visitor Id\n",
            "Visitor 1        0.000000\n",
            "Visitor 10       1.000000\n",
            "Visitor 100      1.000000\n",
            "Visitor 1000     0.750000\n",
            "Visitor 10000    0.000000\n",
            "                   ...   \n",
            "Visitor 9995     0.000000\n",
            "Visitor 9996     1.000000\n",
            "Visitor 9997     0.750000\n",
            "Visitor 9998     0.888889\n",
            "Visitor 9999     0.888889\n",
            "Length: 64446, dtype: float64\n"
          ]
        }
      ]
    },
    {
      "cell_type": "code",
      "source": [
        "# . Determine if there is any correlation between RRI and the engagement of users.\n",
        "\n",
        "# Calculate the Pearson correlation coefficient and p-value\n",
        "rri = rri.rename('RRI')  \n",
        "engagement_rri = pd.merge(engagement, rri, on='Visitor Id')\n",
        "\n",
        "# Convert 'Engagement Level' to numerical representation\n",
        "label_encoder = LabelEncoder()\n",
        "engagement_rri['Engagement Level Numerical'] = label_encoder.fit_transform(engagement_rri['Engagement Level'])\n",
        "\n",
        "# Calculate the Pearson correlation and p-value\n",
        "pearson_corr, pearson_pvalue = pearsonr(engagement_rri['RRI'], engagement_rri['Engagement Level Numerical'])\n",
        "\n",
        "# Calculate the Spearman correlation coefficient and p-value\n",
        "spearman_corr, spearman_pvalue = spearmanr(engagement_rri['RRI'], engagement_rri['Engagement Level'])\n",
        "\n",
        "print(\"Pearson correlation coefficient:\", pearson_corr)\n",
        "print(\"Pearson p-value:\", pearson_pvalue)\n",
        "print(\"Spearman correlation coefficient:\", spearman_corr)\n",
        "print(\"Spearman p-value:\", spearman_pvalue)\n",
        "\n",
        "# The p-value less than 0.05 indicates a significant correlation\n",
        "# Plotting the correlation\n",
        "plt.scatter(engagement_rri['RRI'], engagement_rri['Engagement Level Numerical'])\n",
        "plt.xlabel('RRI')\n",
        "plt.ylabel('Engagement Level Numerical')\n",
        "plt.title('Correlation between RRI and Engagement Level')\n",
        "plt.show()"
      ],
      "metadata": {
        "colab": {
          "base_uri": "https://localhost:8080/",
          "height": 540
        },
        "id": "Don6F2vMSE5o",
        "outputId": "b0081409-2e9b-483a-b08a-c163f7b3b579"
      },
      "execution_count": null,
      "outputs": [
        {
          "output_type": "stream",
          "name": "stdout",
          "text": [
            "Pearson correlation coefficient: 0.02571947115374782\n",
            "Pearson p-value: 6.570202702890231e-11\n",
            "Spearman correlation coefficient: 0.1663902599007453\n",
            "Spearman p-value: 0.0\n"
          ]
        },
        {
          "output_type": "display_data",
          "data": {
            "text/plain": [
              "<Figure size 640x480 with 1 Axes>"
            ],
            "image/png": "[encoded data removed]"
          },
          "metadata": {}
        }
      ]
    },
    {
      "cell_type": "markdown",
      "source": [
        "Based on these results:\n",
        "Pearson correlation coefficient: 0.02571947115374782\n",
        "Pearson p-value: 6.570202702890231e-11\n",
        "Spearman correlation coefficient: 0.1663902599007453\n",
        "Spearman p-value: 0.0\n",
        "\n",
        " There seems to be a weak correlation between RRI and the engagement level, although the nature of the correlation (linear or monotonic) is different based on the correlation coefficient used. In both cases however, the p-value is small suggesitng the correlation is statiscally significant"
      ],
      "metadata": {
        "id": "ey_B5IrIUVs1"
      }
    },
    {
      "cell_type": "markdown",
      "source": [
        "# Bonus Question"
      ],
      "metadata": {
        "id": "dI4rKnXtaNSu"
      }
    },
    {
      "cell_type": "code",
      "source": [
        "# Display the first few rows of the DataFrame\n",
        "print(df.head())\n"
      ],
      "metadata": {
        "colab": {
          "base_uri": "https://localhost:8080/"
        },
        "id": "_P6Ac8LMUsgt",
        "outputId": "23f9d7e4-1081-4e35-bc19-e2dd4abfe7e3"
      },
      "execution_count": null,
      "outputs": [
        {
          "output_type": "stream",
          "name": "stdout",
          "text": [
            "  Visitor Id  State  Device    City Country                Date  \\\n",
            "0  Visitor 1      4  Safari  Quebec  Canada  2022-09-01 0:07:45   \n",
            "1  Visitor 2      2  Safari  Quebec  Canada  2022-09-01 0:08:17   \n",
            "2  Visitor 2      4  Safari  Quebec  Canada  2022-09-01 0:08:22   \n",
            "3  Visitor 2      4  Safari  Quebec  Canada  2022-09-01 0:08:23   \n",
            "4  Visitor 2      2  Safari  Quebec  Canada  2022-09-01 0:08:37   \n",
            "\n",
            "                                             Page  Source Category  \n",
            "0                                               /       1           \n",
            "1  /produit/GwnfnU1HFW85bon5lXV9DlO0L02LpQFGVQ586       2  produit  \n",
            "2  /produit/shL4MwXvPqcXBthLvQGqyvk04uqPJRWZAKKmN       2  produit  \n",
            "3  /produit/M7dYLKqdw665udILfLP09qbRerFjOF9z8NaPH       2  produit  \n",
            "4  /produit/Y2sUJXsfJxVS8R3PlJnN0Csq5Z2oAjuJ8l9Ks       2  produit  \n",
            "               State         Source\n",
            "count  396276.000000  396276.000000\n",
            "mean        2.376013    1919.618955\n",
            "std         0.934487    3211.064489\n",
            "min         1.000000       1.000000\n",
            "25%         2.000000       2.000000\n",
            "50%         2.000000     117.000000\n",
            "75%         3.000000    2593.000000\n",
            "max         4.000000   12664.000000\n"
          ]
        }
      ]
    },
    {
      "cell_type": "code",
      "source": [
        "# Generate summary statistics of the data\n",
        "summary = df.describe()\n",
        "print(summary)"
      ],
      "metadata": {
        "colab": {
          "base_uri": "https://localhost:8080/"
        },
        "id": "WTJp2MIKUaTT",
        "outputId": "5330b806-a923-4146-9a37-bc7e1bdadb21"
      },
      "execution_count": null,
      "outputs": [
        {
          "output_type": "stream",
          "name": "stdout",
          "text": [
            "               State         Source\n",
            "count  396276.000000  396276.000000\n",
            "mean        2.376013    1919.618955\n",
            "std         0.934487    3211.064489\n",
            "min         1.000000       1.000000\n",
            "25%         2.000000       2.000000\n",
            "50%         2.000000     117.000000\n",
            "75%         3.000000    2593.000000\n",
            "max         4.000000   12664.000000\n"
          ]
        }
      ]
    },
    {
      "cell_type": "markdown",
      "source": [
        "\n",
        "In observing the data for the states:\n",
        "The count of non-null values indicates that there are 396,276 valid entries in the 'State' column, implying that it is mostly populated and has a limited number of missing values.\n",
        "\n",
        "The mean value of approximately 2.376 suggests that the average state value is around 2. This gives an indication of the central tendency of the data.\n",
        "The standard deviation of approximately 0.934 implies that the 'State' values are relatively close to the mean, indicating a moderate spread or dispersion.\n",
        "\n",
        "The minimum value of 1 and the maximum value of 4 demonstrate the range of possible state values.\n",
        "The quartiles (25%, 50%, 75%) provide insights into the distribution of the data, indicating that 25% of the values are less than or equal to 2, 50% are less than or equal to 2 (median), and 75% are less than or equal to 3.\n",
        "\n",
        "In observing the data for the source:\n",
        "The count, mean, and standard deviation have similar interpretations to those in the 'State' column, indicating the number of valid entries, the average value, and the spread of the 'Source' values.\n",
        "The minimum and maximum values illustrate the range of possible 'Source' values, with the minimum being 1 and the maximum being 12,664.\n",
        "The quartiles provide information about the distribution of the 'Source' data, such as 25% of the values being less than or equal to 2, 50% (median) being less than or equal to 117, and 75% being less than or equal to 2,593."
      ],
      "metadata": {
        "id": "YD-V3jq9bzOf"
      }
    },
    {
      "cell_type": "code",
      "source": [
        "# Check if data needs cleaning\n",
        "\n",
        "# 1. Check data types\n",
        "print(df.dtypes)\n",
        "\n",
        "# 2. Missing values\n",
        "print()\n",
        "print(df.isnull().sum())\n",
        "\n",
        "# 3. Duplicate rows\n",
        "print()\n",
        "print(df.duplicated().sum())\n",
        "\n",
        "# 4. Outliers (for numeric columns)\n",
        "print()\n",
        "numeric_cols = ['State']\n",
        "print(df[numeric_cols].describe())\n",
        "\n",
        "# 5. Inconsistent data\n",
        "print()\n",
        "print(df['State'].unique())"
      ],
      "metadata": {
        "colab": {
          "base_uri": "https://localhost:8080/"
        },
        "id": "5Ul23zWIb-50",
        "outputId": "86c51f95-d577-4a5c-d0cb-8201a63428c5"
      },
      "execution_count": null,
      "outputs": [
        {
          "output_type": "stream",
          "name": "stdout",
          "text": [
            "Visitor Id    object\n",
            "State          int64\n",
            "Device        object\n",
            "City          object\n",
            "Country       object\n",
            "Date          object\n",
            "Page          object\n",
            "Source         int64\n",
            "Category      object\n",
            "dtype: object\n",
            "\n",
            "Visitor Id        0\n",
            "State             0\n",
            "Device         3164\n",
            "City          36556\n",
            "Country        5382\n",
            "Date              0\n",
            "Page              0\n",
            "Source            0\n",
            "Category          0\n",
            "dtype: int64\n",
            "\n",
            "115\n",
            "\n",
            "               State\n",
            "count  396276.000000\n",
            "mean        2.376013\n",
            "std         0.934487\n",
            "min         1.000000\n",
            "25%         2.000000\n",
            "50%         2.000000\n",
            "75%         3.000000\n",
            "max         4.000000\n",
            "\n",
            "[4 2 3 1]\n"
          ]
        }
      ]
    },
    {
      "cell_type": "markdown",
      "source": [
        "We can observe that the data needs some cleaning from the results above. There are missing values, duplicates, inconsostent data and inconisistent types for some data"
      ],
      "metadata": {
        "id": "ym2fBDvkdXTS"
      }
    },
    {
      "cell_type": "markdown",
      "source": [],
      "metadata": {
        "id": "qBBb79ybcsPb"
      }
    },
    {
      "cell_type": "code",
      "source": [
        "# Histogram of State\n",
        "plt.figure(figsize=(8, 6))\n",
        "sns.histplot(data=df, x='State', bins=10)\n",
        "plt.title('State Plot')\n",
        "plt.xlabel('State')\n",
        "plt.ylabel('Count')\n",
        "plt.show()"
      ],
      "metadata": {
        "colab": {
          "base_uri": "https://localhost:8080/",
          "height": 564
        },
        "id": "ABlog61AWx1N",
        "outputId": "ebddae24-c6d0-4dc1-d78b-72cbef446fcf"
      },
      "execution_count": null,
      "outputs": [
        {
          "output_type": "display_data",
          "data": {
            "text/plain": [
              "<Figure size 800x600 with 1 Axes>"
            ],
            "image/png": "[encoded data removed]"
          },
          "metadata": {}
        }
      ]
    },
    {
      "cell_type": "code",
      "source": [
        "plt.figure()\n",
        "plt.hist(df['State'], bins='auto')\n",
        "plt.title('Histogram')\n",
        "plt.show()\n",
        "\n",
        "# Calculate skewness\n",
        "skewness_value = stats.skew(df['State'])\n",
        "print(\"Skewness:\", skewness_value)"
      ],
      "metadata": {
        "colab": {
          "base_uri": "https://localhost:8080/",
          "height": 469
        },
        "id": "x3ncmlanXfu_",
        "outputId": "b0ac2895-1467-483a-f14e-c68dcde70e9d"
      },
      "execution_count": null,
      "outputs": [
        {
          "output_type": "display_data",
          "data": {
            "text/plain": [
              "<Figure size 640x480 with 1 Axes>"
            ],
            "image/png": "[encoded data removed]"
          },
          "metadata": {}
        },
        {
          "output_type": "stream",
          "name": "stdout",
          "text": [
            "Skewness: 0.8059398815456025\n"
          ]
        }
      ]
    },
    {
      "cell_type": "markdown",
      "source": [
        "In relating to observing this data, A skewness value of 0.8059 indicates that the data has a moderate positive skew. Skewed data can lead to biased predictions, especially when the model is sensitive to imbalanced classes or outliers. The model may favor the majority class or fail to accurately predict rare events"
      ],
      "metadata": {
        "id": "GSbcbBaFbglj"
      }
    },
    {
      "cell_type": "code",
      "source": [],
      "metadata": {
        "id": "XHNkM00LbxwZ"
      },
      "execution_count": null,
      "outputs": []
    }
  ]
}